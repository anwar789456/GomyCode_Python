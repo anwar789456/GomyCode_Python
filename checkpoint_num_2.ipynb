{
 "cells": [
  {
   "cell_type": "code",
   "execution_count": 5,
   "id": "95a66e2d",
   "metadata": {},
   "outputs": [
    {
     "name": "stdout",
     "output_type": "stream",
     "text": [
      "add an item to the list : 6\n",
      "would you like to add another item? ('yes' or 'no') :yes\n",
      "add an item to the list : 3\n",
      "would you like to add another item? ('yes' or 'no') :yes\n",
      "add an item to the list : 2\n",
      "would you like to add another item? ('yes' or 'no') :no\n",
      "Result: 36\n"
     ]
    }
   ],
   "source": [
    "# Question 1\n",
    "Sample_list= []\n",
    "while True:\n",
    "    x=int(input(\"add an item to the list : \"))\n",
    "    Sample_list.append(x)\n",
    "    y = input(\"would you like to add another item? ('yes' or 'no') :\")\n",
    "    if y==\"no\":\n",
    "        break\n",
    "f=1\n",
    "for i in Sample_list:\n",
    "    f=f*i\n",
    "print(\"Result:\",f)\n"
   ]
  },
  {
   "cell_type": "code",
   "execution_count": 9,
   "id": "8a30d260",
   "metadata": {},
   "outputs": [
    {
     "name": "stdout",
     "output_type": "stream",
     "text": [
      "[(2, 1), (1, 2), (2, 3), (4, 4), (2, 5)]\n"
     ]
    }
   ],
   "source": [
    "# Question 2\n",
    "def last_tuple_item(tup):\n",
    "    return tup[1]\n",
    "def sort_list(liste):\n",
    "    return liste.sort(key=last_tuple_item)\n",
    "sample_list = [(2, 5), (1, 2), (4, 4), (2, 3), (2, 1)]\n",
    "sort_list(sample_list)\n",
    "print(sample_list)"
   ]
  },
  {
   "cell_type": "code",
   "execution_count": 71,
   "id": "304a84a6",
   "metadata": {},
   "outputs": [
    {
     "name": "stdout",
     "output_type": "stream",
     "text": [
      "{'a': 400, 'b': 400, 'c': 300, 'd': 400}\n"
     ]
    }
   ],
   "source": [
    "# Question 3\n",
    "d1 = {'a': 100, 'b': 200, 'c':300}\n",
    "d2 = {'a': 300, 'b': 200, 'd':400}\n",
    "d3 = {}\n",
    "for key, value in d1.items():\n",
    "    d3[key]=value\n",
    "for key,value in d2.items():\n",
    "    if key in d3:\n",
    "        d3[key] += value\n",
    "    else:\n",
    "        d3[key] = value\n",
    "print(d3)"
   ]
  },
  {
   "cell_type": "code",
   "execution_count": 73,
   "id": "4c429629",
   "metadata": {},
   "outputs": [
    {
     "name": "stdout",
     "output_type": "stream",
     "text": [
      "give a number = 8\n",
      "{'1': 1, '2': 4, '3': 9, '4': 16, '5': 25, '6': 36, '7': 49, '8': 64}\n"
     ]
    }
   ],
   "source": [
    "# Question 4\n",
    "n = int(input(\"give a number = \"))\n",
    "d = {}\n",
    "for i in range(1,n+1):\n",
    "    d[str(i)] = i*i\n",
    "print(d)"
   ]
  },
  {
   "cell_type": "code",
   "execution_count": 5,
   "id": "89b399be",
   "metadata": {},
   "outputs": [
    {
     "name": "stdout",
     "output_type": "stream",
     "text": [
      "[('item3', '24.5'), ('item2', '15.10'), ('item1', '12.20')]\n"
     ]
    }
   ],
   "source": [
    "# Question 5\n",
    "sample_liste = [('item1', '12.20'), ('item2', '15.10'), ('item3', '24.5')]\n",
    "def get_float_of_tuple(tup):\n",
    "    return float(tup[1])\n",
    "\n",
    "sample_liste.sort(key = get_float_of_tuple,reverse = True)\n",
    "\n",
    "print(sample_liste)"
   ]
  },
  {
   "cell_type": "code",
   "execution_count": 38,
   "id": "5e3b4b19",
   "metadata": {},
   "outputs": [
    {
     "name": "stdout",
     "output_type": "stream",
     "text": [
      "how many items should the set have (max=10): 5\n",
      "add an item :0\n",
      "add an item :1\n",
      "add an item :2\n",
      "add an item :3\n",
      "add an item :4\n",
      "\n",
      "here is your inputted set:\n",
      "\n",
      "item= 0\n",
      "item= 1\n",
      "item= 2\n",
      "item= 3\n",
      "item= 4\n",
      "would you like to do some changes? ('yes' or 'no') :yes\n",
      "would you like to add or remove or print the set? ('add' or 'del' or 'print'):add\n",
      "the item to add:7\n",
      "would you like to do any other changes? ('yes' or 'no') :yes\n",
      "would you like to add or remove or print the set? ('add' or 'del' or 'print'):print\n",
      "item= 0 \n",
      "\n",
      "item= 1 \n",
      "\n",
      "item= 2 \n",
      "\n",
      "item= 3 \n",
      "\n",
      "item= 4 \n",
      "\n",
      "item= 7 \n",
      "\n",
      "would you like to do any other changes? ('yes' or 'no') :yes\n",
      "would you like to add or remove or print the set? ('add' or 'del' or 'print'):del\n",
      "the item to remove:3\n",
      "would you like to do any other changes? ('yes' or 'no') :yes\n",
      "would you like to add or remove or print the set? ('add' or 'del' or 'print'):print\n",
      "item= 0 \n",
      "\n",
      "item= 1 \n",
      "\n",
      "item= 2 \n",
      "\n",
      "item= 4 \n",
      "\n",
      "item= 7 \n",
      "\n",
      "would you like to do any other changes? ('yes' or 'no') :no\n",
      "Goodbye !\n",
      "\n"
     ]
    }
   ],
   "source": [
    "# Question 6\n",
    "\n",
    "# Write a Python program to create a set.\n",
    "n = int(input(\"how many items should the set have (max=10): \"))\n",
    "while(n>10 or n<0):\n",
    "    if (n>10):\n",
    "        n = int(input(\"that's greater than 10, try a smaller number: \"))\n",
    "    else:\n",
    "        n = int(input(\"that's a negative number, try again: \"))\n",
    "x = int(input(\"add an item :\"))\n",
    "myset = {x}\n",
    "for i in range(n-1):\n",
    "    x = int(input(\"add an item :\"))\n",
    "    myset.add(x)\n",
    "\n",
    "# Write a Python program to iteration over sets.\n",
    "print(\"\\nhere is your inputted set:\\n\")\n",
    "for item in myset:\n",
    "    print(\"item=\",item)\n",
    "\n",
    "    \n",
    "# Write a Python program to add members in a set and to remove items from a given set.\n",
    "answer=input(\"would you like to do some changes? ('yes' or 'no') :\")\n",
    "if answer == \"no\":\n",
    "    print(\"okay then, Goodbye!\\n\")\n",
    "while answer==\"yes\":\n",
    "    add_del = input(\"would you like to add or remove or print the set? ('add' or 'del' or 'print'):\")\n",
    "    if add_del == \"print\":\n",
    "        for item in myset:\n",
    "            print(\"item=\",item,\"\\n\")\n",
    "    elif add_del==\"add\":\n",
    "        item = int(input(\"the item to add:\"))\n",
    "        myset.add(item)\n",
    "    else:\n",
    "        item = int(input(\"the item to remove:\"))\n",
    "        if item in myset:\n",
    "            myset.remove(item)\n",
    "        else:\n",
    "            print(\"this item does not exist in the list.\\n\")\n",
    "    answer=input(\"would you like to do any other changes? ('yes' or 'no') :\")\n",
    "print(\"Goodbye !\\n\")\n"
   ]
  }
 ],
 "metadata": {
  "kernelspec": {
   "display_name": "Python 3 (ipykernel)",
   "language": "python",
   "name": "python3"
  },
  "language_info": {
   "codemirror_mode": {
    "name": "ipython",
    "version": 3
   },
   "file_extension": ".py",
   "mimetype": "text/x-python",
   "name": "python",
   "nbconvert_exporter": "python",
   "pygments_lexer": "ipython3",
   "version": "3.9.13"
  }
 },
 "nbformat": 4,
 "nbformat_minor": 5
}
