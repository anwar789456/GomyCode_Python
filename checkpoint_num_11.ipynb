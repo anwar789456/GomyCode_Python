{
 "cells": [
  {
   "cell_type": "code",
   "execution_count": 86,
   "id": "e17c1c5c",
   "metadata": {},
   "outputs": [],
   "source": [
    "# 1 - Import the Tkinter module by writing import tkinter as tk at the beginning of your code."
   ]
  },
  {
   "cell_type": "code",
   "execution_count": 87,
   "id": "abe926a0",
   "metadata": {},
   "outputs": [],
   "source": [
    "import tkinter as tk"
   ]
  },
  {
   "cell_type": "code",
   "execution_count": 88,
   "id": "a8d2d515",
   "metadata": {},
   "outputs": [],
   "source": [
    "# 2 - Define a function named fahrenheit_to_celsius() that will be called when the conversion button is clicked.\n",
    "#     This function should convert the entered temperature from Fahrenheit to Celsius and display the result in the label."
   ]
  },
  {
   "cell_type": "code",
   "execution_count": 89,
   "id": "f199f4a0",
   "metadata": {},
   "outputs": [],
   "source": [
    "def fahrenheit_to_celsius():\n",
    "    fahrenheit = float(ent_temperature.get())\n",
    "    celsius = (fahrenheit - 32) * 5 / 9\n",
    "    return lbl_result.config(text=f\"{round(celsius,2)}\\N{DEGREE CELSIUS}\")\n",
    "    "
   ]
  },
  {
   "cell_type": "code",
   "execution_count": 90,
   "id": "135269f8",
   "metadata": {},
   "outputs": [],
   "source": [
    "# 3 - Create a Tkinter window by writing window = tk.Tk(). Set the title of the window to \"Temperature Converter\" \n",
    "#     by writing window.title(\"Temperature Converter\")."
   ]
  },
  {
   "cell_type": "code",
   "execution_count": 91,
   "id": "3f37fe75",
   "metadata": {},
   "outputs": [
    {
     "data": {
      "text/plain": [
       "''"
      ]
     },
     "execution_count": 91,
     "metadata": {},
     "output_type": "execute_result"
    }
   ],
   "source": [
    "window = tk.Tk()\n",
    "window.title(\"Temperature Converter\")\n"
   ]
  },
  {
   "cell_type": "code",
   "execution_count": 92,
   "id": "331838e4",
   "metadata": {},
   "outputs": [],
   "source": [
    "# 4 - Set the window to a fixed size by writing window.resizable(width=False, height=False)."
   ]
  },
  {
   "cell_type": "code",
   "execution_count": 93,
   "id": "57f70552",
   "metadata": {},
   "outputs": [
    {
     "data": {
      "text/plain": [
       "''"
      ]
     },
     "execution_count": 93,
     "metadata": {},
     "output_type": "execute_result"
    }
   ],
   "source": [
    "window.resizable(width=False, height=False)"
   ]
  },
  {
   "cell_type": "code",
   "execution_count": 94,
   "id": "dfefbdb3",
   "metadata": {},
   "outputs": [],
   "source": [
    "# 5 - Create a frame to hold the Fahrenheit entry widget and label. \n",
    "#     Write frm_entry=tk.Frame(master=window) to create the frame."
   ]
  },
  {
   "cell_type": "code",
   "execution_count": 95,
   "id": "52ec89b5",
   "metadata": {},
   "outputs": [],
   "source": [
    "frm_entry=tk.Frame(master=window)"
   ]
  },
  {
   "cell_type": "code",
   "execution_count": 96,
   "id": "19a10421",
   "metadata": {},
   "outputs": [],
   "source": [
    "# 6 - Create an entry widget to accept the temperature in Fahrenheit. \n",
    "#     Write ent_temperature = tk.Entry(master=frm_entry, width=10) to create the entry widget."
   ]
  },
  {
   "cell_type": "code",
   "execution_count": 97,
   "id": "bc78099b",
   "metadata": {},
   "outputs": [],
   "source": [
    "ent_temperature = tk.Entry(master=frm_entry, width=20)"
   ]
  },
  {
   "cell_type": "code",
   "execution_count": 98,
   "id": "20a7642b",
   "metadata": {},
   "outputs": [],
   "source": [
    "# 7 - Create a label widget to display the degree symbol and the text \"F\". \n",
    "#     Write lbl_temp = tk.Label(master=frm_entry, text=\"\\N{DEGREE FAHRENHEIT}\") to create the label widget."
   ]
  },
  {
   "cell_type": "code",
   "execution_count": 99,
   "id": "cc34beb6",
   "metadata": {},
   "outputs": [],
   "source": [
    "lbl_temp = tk.Label(master=frm_entry, text=\"\\N{DEGREE FAHRENHEIT}\")"
   ]
  },
  {
   "cell_type": "code",
   "execution_count": 100,
   "id": "788286c5",
   "metadata": {},
   "outputs": [],
   "source": [
    "# 8 - Use the grid() geometry manager to arrange the entry and label widgets in the frame. \n",
    "#     Write ent_temperature.grid(row=0, column=0, sticky=\"e\") and lbl_temp.grid(row=0, column=1, sticky=\"w\") \n",
    "#     to arrange the widgets."
   ]
  },
  {
   "cell_type": "code",
   "execution_count": 101,
   "id": "a8e84ba7",
   "metadata": {},
   "outputs": [],
   "source": [
    "ent_temperature.grid(row=0, column=0, sticky=\"e\")\n",
    "\n",
    "lbl_temp.grid(row=0, column=1, sticky=\"w\")"
   ]
  },
  {
   "cell_type": "code",
   "execution_count": 102,
   "id": "a454b64e",
   "metadata": {},
   "outputs": [],
   "source": [
    "# 9 - Create a button widget to initiate the conversion process. \n",
    "#     Write btn_convert = tk.Button(master=window, text=\"\\N{RIGHTWARDS BLACK ARROW}\", command=fahrenheit_to_celsius) \n",
    "#     to create the button widget."
   ]
  },
  {
   "cell_type": "code",
   "execution_count": 103,
   "id": "c2a3e5c8",
   "metadata": {},
   "outputs": [],
   "source": [
    "btn_convert=tk.Button(master=window,text=\"\\N{RIGHTWARDS BLACK ARROW}\", command=fahrenheit_to_celsius)\n"
   ]
  },
  {
   "cell_type": "code",
   "execution_count": 104,
   "id": "da23bd58",
   "metadata": {},
   "outputs": [],
   "source": [
    "# 10 - Create a label widget to display the result of the conversion in Celsius. \n",
    "#      Write lbl_result = tk.Label(master=window, text=\"\\N{DEGREE CELSIUS}\") to create the label widget."
   ]
  },
  {
   "cell_type": "code",
   "execution_count": 105,
   "id": "a92f073a",
   "metadata": {},
   "outputs": [],
   "source": [
    "lbl_result = tk.Label(master=window, text=\"\\N{DEGREE CELSIUS}\")"
   ]
  },
  {
   "cell_type": "code",
   "execution_count": 106,
   "id": "c54614e9",
   "metadata": {},
   "outputs": [],
   "source": [
    "# 11 - Use the grid() geometry manager to arrange the frame, button, and result label widgets. \n",
    "#      Write frm_entry.grid(row=0, column=0, padx=10), btn_convert.grid(row=0, column=1, pady=10), \n",
    "#      and lbl_result.grid(row=0, column=2, padx=10) to arrange the widgets."
   ]
  },
  {
   "cell_type": "code",
   "execution_count": 107,
   "id": "a5802a0a",
   "metadata": {},
   "outputs": [],
   "source": [
    "frm_entry.grid(row=0, column=0, padx=10)\n",
    "\n",
    "btn_convert.grid(row=0, column=1, pady=10)\n",
    "\n",
    "lbl_result.grid(row=0, column=2, padx=10)\n"
   ]
  },
  {
   "cell_type": "code",
   "execution_count": 108,
   "id": "2809a72c",
   "metadata": {},
   "outputs": [],
   "source": [
    "# 12 - Call the mainloop() method of the window object to start the application."
   ]
  },
  {
   "cell_type": "code",
   "execution_count": 109,
   "id": "02370d9c",
   "metadata": {},
   "outputs": [],
   "source": [
    "window.mainloop()"
   ]
  },
  {
   "cell_type": "markdown",
   "id": "e725d628",
   "metadata": {},
   "source": [
    "Notes :\n",
    "- Make sure to use the float() method to convert the temperature entered in the entry widget to a float value.\n",
    "\n",
    "- Use the round() method to round off the Celsius value to two decimal places.\n",
    "\n",
    "- Use the \\N{DEGREE CELSIUS} and \\N{DEGREE FAHRENHEIT} Unicode characters to display the degree symbol in the label widgets.\n",
    "\n",
    "- Test your program by entering a temperature value in Fahrenheit and clicking the conversion button. Check if the converted value is correct."
   ]
  }
 ],
 "metadata": {
  "kernelspec": {
   "display_name": "Python 3 (ipykernel)",
   "language": "python",
   "name": "python3"
  },
  "language_info": {
   "codemirror_mode": {
    "name": "ipython",
    "version": 3
   },
   "file_extension": ".py",
   "mimetype": "text/x-python",
   "name": "python",
   "nbconvert_exporter": "python",
   "pygments_lexer": "ipython3",
   "version": "3.9.13"
  }
 },
 "nbformat": 4,
 "nbformat_minor": 5
}
