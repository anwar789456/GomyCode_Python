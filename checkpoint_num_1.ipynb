{
 "cells": [
  {
   "cell_type": "code",
   "execution_count": 48,
   "id": "82851d53",
   "metadata": {},
   "outputs": [],
   "source": [
    "import random"
   ]
  },
  {
   "cell_type": "code",
   "execution_count": 49,
   "id": "1e1fb477",
   "metadata": {},
   "outputs": [
    {
     "name": "stdout",
     "output_type": "stream",
     "text": [
      " _____________________________________________________________________________________________________\n",
      "|----------------------------       Welcome to the Guessing Game      --------------------------------|\n",
      "|_____________________________________________________________________________________________________|\n",
      "|         The rules are very simple ! if you can guess the number that i am thinking of, you win.     |\n",
      "|_____________________________________________________________________________________________________|\n",
      "\n",
      "would you like to try? \n"
     ]
    }
   ],
   "source": [
    "print(\" _____________________________________________________________________________________________________\\n\"\"|----------------------------       Welcome to the Guessing Game      --------------------------------|\\n|_____________________________________________________________________________________________________|\\n|         The rules are very simple ! if you can guess the number that i am thinking of, you win.     |\\n|_____________________________________________________________________________________________________|\\n\")\n",
    "print(\"would you like to try? \")\n"
   ]
  },
  {
   "cell_type": "code",
   "execution_count": 61,
   "id": "fa77801b",
   "metadata": {},
   "outputs": [
    {
     "name": "stdout",
     "output_type": "stream",
     "text": [
      "write yes or no :yes\n",
      "I'm thinking of a number 'x' that is between 1 and 100.\n",
      "Enter your guess :1\n",
      "your guess is too low!\n",
      "guess again :50\n",
      "your guess is too low!\n",
      "guess again :74\n",
      "your guess is low, but you are very close! \n",
      "guess again :75\n",
      "your guess is low, but you are very close! \n",
      "guess again :76\n",
      "you won! number of tries: 5\n"
     ]
    }
   ],
   "source": [
    "x = input(\"write yes or no :\")\n",
    "if (x==\"yes\") or (x==\"YES\"):\n",
    "    x = random.randint(1,100)\n",
    "    print(\"I'm thinking of a number 'x' that is between 1 and 100.\")\n",
    "    y = int(input(\"Enter your guess :\"))\n",
    "    if (x==y):\n",
    "        print(\"Congrats ! you've won on your first try! you're a wizard !\")\n",
    "    else:\n",
    "        tries = 1\n",
    "        while (y!=x):\n",
    "            if y>x and abs(y-x)>=20:\n",
    "                print(\"your guess is too high! \")\n",
    "                tries+=1\n",
    "            elif (y<x) and abs(y-x)>=20:\n",
    "                print(\"your guess is too low!\")\n",
    "                tries+=1\n",
    "            elif (y>x) and abs(y-x)<=10:\n",
    "                print(\"your guess is high, but you are very close! \")\n",
    "                tries+=1\n",
    "            elif (y<x) and abs(y-x)<=10:\n",
    "                print(\"your guess is low, but you are very close! \")\n",
    "                tries+=1\n",
    "            y= int(input(\"guess again :\"))\n",
    "        print(\"you won! number of tries:\",tries)\n",
    "else:\n",
    "    print(\"goodbye.\\n\")"
   ]
  },
  {
   "cell_type": "code",
   "execution_count": null,
   "id": "df967640",
   "metadata": {},
   "outputs": [],
   "source": []
  }
 ],
 "metadata": {
  "kernelspec": {
   "display_name": "Python 3 (ipykernel)",
   "language": "python",
   "name": "python3"
  },
  "language_info": {
   "codemirror_mode": {
    "name": "ipython",
    "version": 3
   },
   "file_extension": ".py",
   "mimetype": "text/x-python",
   "name": "python",
   "nbconvert_exporter": "python",
   "pygments_lexer": "ipython3",
   "version": "3.9.13"
  }
 },
 "nbformat": 4,
 "nbformat_minor": 5
}
