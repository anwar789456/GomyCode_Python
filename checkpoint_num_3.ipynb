{
 "cells": [
  {
   "cell_type": "code",
   "execution_count": null,
   "id": "28622e39",
   "metadata": {},
   "outputs": [],
   "source": [
    "\"\"\"\n",
    "1 - Define a function called \"calculator\" that takes two arguments, \"num1\" and \"num2\".\n",
    "2 - Within the function, prompt the user to enter an operator (+, -, *, /).\n",
    "3 - Use conditional statements to determine which operation to perform based on the user's input.\n",
    "4 - Return the result of the operation.\n",
    "5 - Call the function calculator with two numbers and print the result.\n",
    "6 - Handle cases where the user inputs invalid operators or tries to divide by zero.\n",
    "\n",
    "You may want to use a \"while\" loop to allow the user to roll the dice multiple times, \n",
    "or to add some messages to make the program more user-friendly.\n",
    "\n",
    "\"\"\""
   ]
  },
  {
   "cell_type": "code",
   "execution_count": 20,
   "id": "4f052264",
   "metadata": {},
   "outputs": [
    {
     "name": "stdout",
     "output_type": "stream",
     "text": [
      "would you like to choose the numbers or should i roll the dice? if you roll the dice, the numbers will be randomly generated.\n",
      "press 'c' to enter the numbers or 'r' to roll the dice:c\n",
      "enter the first number:15\n",
      "enter the second number:23\n",
      "enter an operator (+,-,*,/) :+\n",
      "the result of adding 15 to 23 is 38\n"
     ]
    }
   ],
   "source": [
    "import random\n",
    "def calculator(num1,num2):\n",
    "    operator = input(\"enter an operator (+,-,*,/) :\")\n",
    "    while (operator != \"+\") and (operator != \"-\") and (operator != \"*\") and (operator != \"/\"):\n",
    "        operator = input(\"that wasn't an operator! choose between these (+,-,*,/) :\")\n",
    "    if (num2 == 0) and (operator=='/'):\n",
    "        print(\"you can't devide by zero! unless you want an error to pop up. \\n\")\n",
    "    if operator == \"+\":\n",
    "        result = num1 + num2\n",
    "    elif operator == \"-\":\n",
    "        result = num1 - num2\n",
    "    elif operator == \"*\":\n",
    "        result = num1 * num2\n",
    "    elif operator == \"/\":\n",
    "        result = float(num1) / float(num2)\n",
    "    return result,operator\n",
    "\n",
    "print(\"would you like to choose the numbers or should i roll the dice? if you roll the dice, the numbers will be randomly generated.\")\n",
    "pick = input(\"press 'c' to enter the numbers or 'r' to roll the dice:\")\n",
    "while(pick!=\"c\") and (pick!=\"r\"):\n",
    "    print(\"sorry but you can only pick 'c' or 'r'. try again.\")\n",
    "    pick = input(\"press 'c' to enter the numbers or 'r' to roll the dice:\")\n",
    "\n",
    "\n",
    "def choose_the_number(pick):\n",
    "    if pick == 'c':\n",
    "        num1 = input(\"enter the first number:\")\n",
    "        while num1.isdigit() == False:\n",
    "            num1 = input(\"you have to enter a number! try again:\")\n",
    "        num2 = input(\"enter the second number:\")\n",
    "        while num2.isdigit() == False:\n",
    "            num2 = input(\"you have to enter a number! try again:\")\n",
    "    elif pick == 'r':\n",
    "        print(\"what would you like the range to be ?\\n example: r1=5, r2=500  ==> number1= 9 , number2= 300\")\n",
    "        r1 = int(input(\"r1=\"))\n",
    "        r2 = int(input(\"r2=\"))\n",
    "        if (r1<r2):\n",
    "            num1 = random.randint(r1,r2)\n",
    "            num2 = random.randint(r1,r2)\n",
    "            print(\"num1 = \",num1)\n",
    "            print(\"num2 = \",num2)\n",
    "        else:\n",
    "            num1 = random.randint(r2,r1)\n",
    "            num2 = random.randint(r2,r1)\n",
    "            print(\"num1 = \",num1)\n",
    "            print(\"num2 = \",num2)\n",
    "    num1 = int(num1)\n",
    "    num2 = int(num2)\n",
    "    return num1,num2\n",
    "\n",
    "num1,num2 = choose_the_number(pick)\n",
    "\n",
    "result,op = calculator(num1,num2)\n",
    "\n",
    "if(op=='+'):\n",
    "    print(\"the result of adding\",num1,'to',num2,'is',result)\n",
    "elif(op=='-'):\n",
    "    print(\"the result of subtracting\",num1,'and',num2,'is',result)\n",
    "elif(op=='*'):\n",
    "    print(\"the result of multiplying\",num1,'to',num2,'is',result)\n",
    "elif(op=='/'):\n",
    "    print(\"the result of dividing\",num1,'by',num2,'is',result)\n"
   ]
  },
  {
   "cell_type": "code",
   "execution_count": null,
   "id": "43f20420",
   "metadata": {},
   "outputs": [],
   "source": []
  }
 ],
 "metadata": {
  "kernelspec": {
   "display_name": "Python 3 (ipykernel)",
   "language": "python",
   "name": "python3"
  },
  "language_info": {
   "codemirror_mode": {
    "name": "ipython",
    "version": 3
   },
   "file_extension": ".py",
   "mimetype": "text/x-python",
   "name": "python",
   "nbconvert_exporter": "python",
   "pygments_lexer": "ipython3",
   "version": "3.9.13"
  }
 },
 "nbformat": 4,
 "nbformat_minor": 5
}
