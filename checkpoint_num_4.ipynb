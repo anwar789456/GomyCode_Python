{
 "cells": [
  {
   "cell_type": "markdown",
   "id": "305842e0",
   "metadata": {},
   "source": [
    "1 - Write a Python class named Point3D defined by x, y, and z. \n",
    " Define a method that returns (x, y ,z). This tells Python to represent this object in the following format: (x, y, z). \n",
    " Then create a variable named my_point containing a new instance of Point3D with x=1, y=2, and z=3 and print it."
   ]
  },
  {
   "cell_type": "code",
   "execution_count": 3,
   "id": "96b1371b",
   "metadata": {},
   "outputs": [
    {
     "name": "stdout",
     "output_type": "stream",
     "text": [
      "1\n",
      "2\n",
      "3\n"
     ]
    }
   ],
   "source": [
    "class Point3D:\n",
    "    def __init__(self,x,y,z):\n",
    "        self.x = x\n",
    "        self.y = y\n",
    "        self.z = z\n",
    "    \n",
    "my_point = Point3D(1,2,3)\n",
    "print(my_point.x)\n",
    "print(my_point.y)\n",
    "print(my_point.z)"
   ]
  },
  {
   "cell_type": "markdown",
   "id": "60aaf5eb",
   "metadata": {},
   "source": [
    "2 - Write a Python class named Rectangle constructed by a length and width. Define two methods, area and perimeter, \n",
    "which will compute the area and the perimeter of the rectangle. Then create a variable named my_rectangle containing a new \n",
    " instance of Rectangle with width=3 and length = 4 and compute both area and perimeter \n",
    " ( the area is expected to be 3*4=12 and perimeter 2*(3+4)=14)."
   ]
  },
  {
   "cell_type": "code",
   "execution_count": 6,
   "id": "7df235d1",
   "metadata": {},
   "outputs": [
    {
     "name": "stdout",
     "output_type": "stream",
     "text": [
      "the area of the rectangle: 12\n",
      "the perimeter of the rectangle: 14\n"
     ]
    }
   ],
   "source": [
    "class Rectangle:\n",
    "    def __init__(self, length, width):\n",
    "        self.length = length\n",
    "        self.width = width\n",
    "    \n",
    "    def area(self):\n",
    "        return self.width * self.length\n",
    "    \n",
    "    def perimeter(self):\n",
    "        return 2*(self.width+self.length)\n",
    "\n",
    "my_rectangle = Rectangle(3,4)\n",
    "print(\"the area of the rectangle:\",my_rectangle.area())\n",
    "print(\"the perimeter of the rectangle:\",my_rectangle.perimeter())"
   ]
  },
  {
   "cell_type": "markdown",
   "id": "e8d65149",
   "metadata": {},
   "source": [
    "3 - Write a Python  class named Circle constructed by its center O and radius r. \n",
    " Define two methods, area and perimeter, which will compute the area and the perimeter of the circle, \n",
    " and is_Inside() method which allows you to test whether a point A(x, y) belongs to the circle C(O, r) or not."
   ]
  },
  {
   "cell_type": "code",
   "execution_count": 33,
   "id": "d4b8d911",
   "metadata": {},
   "outputs": [
    {
     "name": "stdout",
     "output_type": "stream",
     "text": [
      "the area of the circle: 113.09733552923255\n",
      "the perimeter of the circle: 37.69911184307752\n",
      "True\n"
     ]
    }
   ],
   "source": [
    "import math\n",
    "\n",
    "class Circle:\n",
    "    def __init__(self,center_x,center_y,radius):\n",
    "        self.center_x = center_x\n",
    "        self.center_y = center_y\n",
    "        self.radius = radius\n",
    "    def area(self):\n",
    "        return  math.pi * self.radius * self.radius\n",
    "    def perimeter(self):\n",
    "        return (2*math.pi) * self.radius\n",
    "    def is_Inside(self, A_x, A_y):\n",
    "        Distance = math.sqrt(((A_x-self.center_x)**2) + ((A_y-self.center_y)**2))\n",
    "        return Distance <= self.radius\n",
    "\n",
    "C = Circle(0,0,6)\n",
    "\n",
    "print(\"the area of the circle:\",C.area())\n",
    "\n",
    "print(\"the perimeter of the circle:\",C.perimeter())\n",
    "\n",
    "print(C.is_Inside(4,3))\n"
   ]
  },
  {
   "cell_type": "markdown",
   "id": "501352e2",
   "metadata": {},
   "source": [
    "4 - Suppose we want to model a bank account with support for deposit and withdraw operations. \n",
    " Let’s create a Python class named Bank defined by its balance. \n",
    " Define two methods, deposit and withdraw, to compute the new amount of each operation."
   ]
  },
  {
   "cell_type": "code",
   "execution_count": 9,
   "id": "14c68366",
   "metadata": {},
   "outputs": [
    {
     "name": "stdout",
     "output_type": "stream",
     "text": [
      "the amount of money in your bank account: 500\n",
      "would you like to deposit or withdraw money? press 'd' or 'w':d\n",
      "your deposit amount=400\n",
      "your amount is now 900\n"
     ]
    }
   ],
   "source": [
    "class Bank:\n",
    "    def __init__(self,amount):\n",
    "        self.amount = amount\n",
    "    def deposit(self,deposit_amount):\n",
    "        self.amount = self.amount + deposit_amount\n",
    "        return self.amount\n",
    "    def withdraw(self,withdraw_amount):\n",
    "        # just in case the person tries to withdraw more money than (s)he has :\n",
    "        if self.amount<withdraw_amount:\n",
    "            print(\"you can't withdraw more money than you actually have! here's the solution: switch your career into tech :)\")\n",
    "        else:\n",
    "            self.amount -= withdraw_amount\n",
    "            return self.amount\n",
    "\n",
    "my_Bank = Bank(500)\n",
    "print(\"the amount of money in your bank account:\",my_Bank.amount)\n",
    "\n",
    "operation = input(\"would you like to deposit or withdraw money? press 'd' or 'w':\")\n",
    "\n",
    "while operation != \"d\" and operation != \"w\":\n",
    "    operation = input(\"please press 'd' or 'w':\")\n",
    "if operation == 'd':\n",
    "    dep=int(input(\"your deposit amount=\"))\n",
    "    my_Bank.deposit(dep)\n",
    "    print(\"your amount is now\",my_Bank.amount)\n",
    "else:\n",
    "    wit = int(input(\"your withdrawal amount=\"))\n",
    "    my_Bank.withdraw(wit)\n",
    "    print(\"your amount is now\",my_Bank.amount)"
   ]
  }
 ],
 "metadata": {
  "kernelspec": {
   "display_name": "Python 3 (ipykernel)",
   "language": "python",
   "name": "python3"
  },
  "language_info": {
   "codemirror_mode": {
    "name": "ipython",
    "version": 3
   },
   "file_extension": ".py",
   "mimetype": "text/x-python",
   "name": "python",
   "nbconvert_exporter": "python",
   "pygments_lexer": "ipython3",
   "version": "3.9.13"
  }
 },
 "nbformat": 4,
 "nbformat_minor": 5
}
