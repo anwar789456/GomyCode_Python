{
 "cells": [
  {
   "cell_type": "code",
   "execution_count": 11,
   "id": "e507e1c5",
   "metadata": {},
   "outputs": [
    {
     "name": "stdout",
     "output_type": "stream",
     "text": [
      "True\n"
     ]
    }
   ],
   "source": [
    "# Question 1\n",
    "def binary_search(T,item):\n",
    "    first_index = 0\n",
    "    last_index = len(T)-1\n",
    "    while first_index<=last_index:\n",
    "        mid_index = first_index + (last_index-first_index) //2\n",
    "        mid_value = T[mid_index]\n",
    "        \n",
    "        if  (mid_value==item):\n",
    "            return True\n",
    "        elif mid_value<item:\n",
    "            first_index = mid_index+1\n",
    "        elif mid_value > item:\n",
    "            last_index = mid_index - 1\n",
    "    return False\n",
    "T = [1,4,6,7,9,10,14,20]\n",
    "found = binary_search(T,20)\n",
    "print(found)"
   ]
  },
  {
   "cell_type": "code",
   "execution_count": 1,
   "id": "99805e31",
   "metadata": {},
   "outputs": [
    {
     "name": "stdout",
     "output_type": "stream",
     "text": [
      "81\n"
     ]
    }
   ],
   "source": [
    "# 2. Write a Python program to calculate the value of 'a' to the power 'b'.\n",
    "def power(a,b):\n",
    "    if b==0:\n",
    "        return 1\n",
    "    elif b>0:\n",
    "        return a * power(a,b-1)\n",
    "    else:\n",
    "        return (a * 1/power(a,-b))\n",
    "a = 3\n",
    "b = 4\n",
    "print(power(a,b))"
   ]
  },
  {
   "cell_type": "code",
   "execution_count": 4,
   "id": "445ee7d1",
   "metadata": {},
   "outputs": [
    {
     "name": "stdout",
     "output_type": "stream",
     "text": [
      "[13, 22, 29, 37, 49, 46, 52, 56, 71]\n"
     ]
    }
   ],
   "source": [
    "# 3. Write a Python program to sort a list of elements using the bubble sort algorithm.\n",
    "def Bubble_sort(T):\n",
    "    permut = 1\n",
    "    n = len(T)\n",
    "    while permut==1:\n",
    "        for i in range(n-1):\n",
    "            if (T[i]>T[i+1]):\n",
    "                aux = T[i]\n",
    "                T[i] = T[i+1]\n",
    "                T[i+1] = aux\n",
    "                permut = 0\n",
    "            \n",
    "    return T\n",
    "\n",
    "Sample_Data = [29,13,22,37,52,49,46,71,56]\n",
    "Expected_result = Bubble_sort(Sample_Data)\n",
    "print(Expected_result)"
   ]
  },
  {
   "cell_type": "code",
   "execution_count": 6,
   "id": "23d534d5",
   "metadata": {},
   "outputs": [
    {
     "name": "stdout",
     "output_type": "stream",
     "text": [
      "[13, 22, 29, 37, 46, 49, 52, 56, 71]\n"
     ]
    }
   ],
   "source": [
    "# 4. Write a Python program to sort a list of elements using the merge sort algorithm.\n",
    "def mergeSort(myList):\n",
    "    if len(myList) > 1:\n",
    "        mid = len(myList) // 2\n",
    "        left = myList[:mid]\n",
    "        right = myList[mid:]\n",
    "        mergeSort(left)\n",
    "        mergeSort(right)\n",
    "        i = 0\n",
    "        j = 0\n",
    "        k = 0\n",
    "        while i < len(left) and j < len(right):\n",
    "            if left[i] < right[j]:\n",
    "                myList[k] = left[i]\n",
    "                i += 1\n",
    "            else:\n",
    "                myList[k] = right[j]\n",
    "                j += 1\n",
    "            k += 1\n",
    "        while i < len(left):\n",
    "            myList[k] = left[i]\n",
    "            i += 1\n",
    "            k += 1\n",
    "        while j < len(right):\n",
    "            myList[k]=right[j]\n",
    "            j += 1\n",
    "            k += 1\n",
    "\n",
    "Sample_Data = [29,13,22,37,52,49,46,71,56]\n",
    "mergeSort(Sample_Data)\n",
    "print(Sample_Data)"
   ]
  },
  {
   "cell_type": "code",
   "execution_count": 9,
   "id": "bd13e556",
   "metadata": {},
   "outputs": [
    {
     "name": "stdout",
     "output_type": "stream",
     "text": [
      "[12, 19, 21, 27, 28, 29, 31, 41, 44, 44, 58, 66, 76, 78, 83, 87, 88, 97, 99]\n"
     ]
    }
   ],
   "source": [
    "# 5. Write a Python program to sort a list of elements using the quick sort algorithm.\n",
    "def partition(array, start, end):\n",
    "    pivot = array[start]\n",
    "    low = start + 1\n",
    "    high = end\n",
    "    while True:\n",
    "        while low <= high and array[high] >= pivot:\n",
    "            high = high - 1\n",
    "        while low <= high and array[low] <= pivot:\n",
    "            low = low + 1\n",
    "        if low <= high:\n",
    "            array[low], array[high] = array[high], array[low]\n",
    "        else:\n",
    "            break\n",
    "    array[start], array[high] = array[high], array[start]\n",
    "    return high\n",
    "def quick_sort(array, start, end):\n",
    "    if start >= end:\n",
    "        return\n",
    "    p = partition(array, start, end)\n",
    "    quick_sort(array, start, p-1)\n",
    "    quick_sort(array, p+1, end)\n",
    "\n",
    "Sample_Data = [29,99,27,41,66,28,44,78,87,19,31,76,58,88,83,97,12,21,44]\n",
    "quick_sort(Sample_Data, 0, len(Sample_Data) - 1)\n",
    "print(Sample_Data)    \n"
   ]
  },
  {
   "cell_type": "code",
   "execution_count": null,
   "id": "9eae1883",
   "metadata": {},
   "outputs": [],
   "source": []
  },
  {
   "cell_type": "code",
   "execution_count": null,
   "id": "198d87b3",
   "metadata": {},
   "outputs": [],
   "source": []
  }
 ],
 "metadata": {
  "kernelspec": {
   "display_name": "Python 3 (ipykernel)",
   "language": "python",
   "name": "python3"
  },
  "language_info": {
   "codemirror_mode": {
    "name": "ipython",
    "version": 3
   },
   "file_extension": ".py",
   "mimetype": "text/x-python",
   "name": "python",
   "nbconvert_exporter": "python",
   "pygments_lexer": "ipython3",
   "version": "3.9.13"
  }
 },
 "nbformat": 4,
 "nbformat_minor": 5
}
