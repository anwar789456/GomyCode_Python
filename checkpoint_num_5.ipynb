{
 "cells": [
  {
   "cell_type": "code",
   "execution_count": null,
   "id": "e44a8a80",
   "metadata": {},
   "outputs": [],
   "source": [
    "\"\"\"1- Import the Numpy library.\n",
    "\n",
    "2 - Ask the user to enter the number of students and the number of subjects.\n",
    "\n",
    "3 - Create a Numpy array to store the marks of each student in each subject. The array should have the shape \n",
    "    (number of students, number of subjects).\n",
    "    \n",
    "4 - Ask the user to enter the marks of each student in each subject.\n",
    "\n",
    "5 - Calculate the total marks for each student using the sum() function of Numpy.\n",
    "\n",
    "6 - Calculate the percentage for each student using the total marks and the formula: \n",
    "    percentage = (total marks / (number of subjects * 100)) * 100\n",
    "    \n",
    "7 - Calculate the grade for each student using the percentage and the following grading system:\n",
    "   1 -  90% or above: A+\n",
    "   2 -  80% or above: A\n",
    "   3 -  70% or above: B+\n",
    "   4 -  60% or above: B\n",
    "   5 -  50% or above: C\n",
    "   6 -  below 50%: F\n",
    "    \n",
    "8 - Display the result for each student in a tabular format with columns for student name, total marks, \n",
    "    percentage, and grade.\n",
    "\"\"\""
   ]
  },
  {
   "cell_type": "code",
   "execution_count": 2,
   "id": "6d745aab",
   "metadata": {},
   "outputs": [],
   "source": [
    "import numpy as np"
   ]
  },
  {
   "cell_type": "code",
   "execution_count": 81,
   "id": "2e384ec3",
   "metadata": {},
   "outputs": [
    {
     "name": "stdout",
     "output_type": "stream",
     "text": [
      "please enter a number of students = 3\n",
      "please enter a number of subjects = 2\n",
      "student n°1, mark n°1:80\n",
      "student n°1, mark n°2:50\n",
      "student n°2, mark n°1:45\n",
      "student n°2, mark n°2:99\n",
      "student n°3, mark n°1:100\n",
      "student n°3, mark n°2:95\n",
      " ______________________________________________________________\n",
      "|   Student     | Total Marks  |   Percentage    |  Grade      |\n",
      "|_______________|______________|_________________|_____________|\n",
      "|  student n°1  |    130.0     |    65.0%        |    B        |\n",
      "|_______________|______________|_________________|_____________|\n",
      "|  student n°2  |    144.0     |    72.0%        |    B+       |\n",
      "|_______________|______________|_________________|_____________|\n",
      "|  student n°3  |    195.0     |    97.5%        |    A+       |\n",
      "|_______________|______________|_________________|_____________|\n"
     ]
    }
   ],
   "source": [
    "# input the number of students\n",
    "n_students = int(input(\"please enter a number of students = \"))\n",
    "while (n_students<0): # to make sure the value is valid\n",
    "    n_students = int(input(\"please enter a number of students = \"))\n",
    "\n",
    "#input the number of subjects\n",
    "n_subjects = int(input(\"please enter a number of subjects = \"))\n",
    "while n_subjects<0: # making sure that the number is valid\n",
    "    n_subjects = int(input(\"please enter a number of subjects = \"))\n",
    "\n",
    "\n",
    "# i'm creating an array full of ones, i'll change the values later\n",
    "arrayy=np.ones((n_students,n_subjects))\n",
    "\n",
    "# entering the marks of the students\n",
    "for i in range(n_students):\n",
    "    for j in range(n_subjects):\n",
    "        m = int(input(f\"student n°{i+1}, mark n°{j+1}:\"))\n",
    "        arrayy[i,j] = m\n",
    "\n",
    "# calculating the result of every student\n",
    "results = np.sum(arrayy, axis=1)\n",
    "#print(\"the results are:\",results)\n",
    "\n",
    "# calculating the percentage of the students and storing them in \"perc\" (array)\n",
    "perc = []\n",
    "for m in results:\n",
    "    percentage = (m / (n_subjects * 100)) * 100\n",
    "    perc.append(percentage)\n",
    "#print(\"the percentage of the students:\",perc)\n",
    "\n",
    "def student_grade(percentage):\n",
    "    if (90<=percentage<=100):\n",
    "        return \"A+\"\n",
    "    elif (80<=percentage<90):\n",
    "        return \"A\"\n",
    "    elif (70<=percentage<80):\n",
    "        return \"B+\"\n",
    "    elif (60<=percentage<70):\n",
    "        return \"B\"\n",
    "    elif (50<=percentage<60):\n",
    "        return \"C\"\n",
    "    elif (0<=percentage<50):\n",
    "        return \"F\"\n",
    "print(\" ______________________________________________________________\")\n",
    "print(\"|   Student     | Total Marks  |   Percentage    |  Grade      |\")\n",
    "print(\"|_______________|______________|_________________|_____________|\")\n",
    "for i in range(n_students):\n",
    "    grade = student_grade(perc[i])\n",
    "    \n",
    "    # here i'm just trying to make sure that the \"Grade\" column doesn't have any unnecessary space so that the table looks good\n",
    "    if (grade==\"A+\")or(grade==\"B+\"):\n",
    "        print(f\"|  student n°{i+1}  |    {results[i]}     |    {perc[i]}%        |    {grade}       |\")\n",
    "    else:\n",
    "        print(f\"|  student n°{i+1}  |    {results[i]}     |    {perc[i]}%        |    {grade}        |\")\n",
    "    print(\"|_______________|______________|_________________|_____________|\")"
   ]
  }
 ],
 "metadata": {
  "kernelspec": {
   "display_name": "Python 3 (ipykernel)",
   "language": "python",
   "name": "python3"
  },
  "language_info": {
   "codemirror_mode": {
    "name": "ipython",
    "version": 3
   },
   "file_extension": ".py",
   "mimetype": "text/x-python",
   "name": "python",
   "nbconvert_exporter": "python",
   "pygments_lexer": "ipython3",
   "version": "3.9.13"
  }
 },
 "nbformat": 4,
 "nbformat_minor": 5
}
